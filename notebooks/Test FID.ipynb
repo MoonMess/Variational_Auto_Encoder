{
 "cells": [
  {
   "cell_type": "markdown",
   "metadata": {},
   "source": [
    "# Testing the models using FID (Frechet Inception Distance)"
   ]
  },
  {
   "cell_type": "code",
   "execution_count": 39,
   "metadata": {},
   "outputs": [
    {
     "name": "stdout",
     "output_type": "stream",
     "text": [
      "The autoreload extension is already loaded. To reload it, use:\n",
      "  %reload_ext autoreload\n"
     ]
    }
   ],
   "source": [
    "import sys\n",
    "sys.path.append(\"../\")\n",
    "from BAMVAE.FID import FrechIncDist\n",
    "\n",
    "import numpy as np\n",
    "import matplotlib.pyplot as plt\n",
    "%load_ext autoreload\n",
    "%autoreload 2"
   ]
  },
  {
   "cell_type": "markdown",
   "metadata": {},
   "source": [
    "# Load images and compute the FID\n",
    "\n",
    "The home-made package allowes to compute FID between generated images and the original MNIST images.\n",
    "\n",
    "rechet inception distance :\n",
    "\n",
    "$$\\boxed{FID^2 = ||\\mu_1 – \\mu_2||^2 + Tr(C_1 + C_2 – 2.sqrt(C_1.C_2))}$$\n",
    "\n",
    "Where $\\mu_i$ is the average of the distribution of dataset $i$ in the Inception feature space and $C_i$ is the covariance matrix of the dataset $i$\n",
    "\n",
    "For an original model trained on 10 epochs, we obtain a `fid=24.76`"
   ]
  },
  {
   "cell_type": "code",
   "execution_count": 2,
   "metadata": {},
   "outputs": [
    {
     "name": "stdout",
     "output_type": "stream",
     "text": [
      "Metal device set to: Apple M1 Pro\n",
      "\n",
      "systemMemory: 16.00 GB\n",
      "maxCacheSize: 5.33 GB\n",
      "\n"
     ]
    },
    {
     "name": "stderr",
     "output_type": "stream",
     "text": [
      "2022-11-05 09:29:21.881339: I tensorflow/core/common_runtime/pluggable_device/pluggable_device_factory.cc:306] Could not identify NUMA node of platform GPU ID 0, defaulting to 0. Your kernel may not have been built with NUMA support.\n",
      "2022-11-05 09:29:21.882108: I tensorflow/core/common_runtime/pluggable_device/pluggable_device_factory.cc:272] Created TensorFlow device (/job:localhost/replica:0/task:0/device:GPU:0 with 0 MB memory) -> physical PluggableDevice (device: 0, name: METAL, pci bus id: <undefined>)\n"
     ]
    }
   ],
   "source": [
    "Fid=FrechIncDist()"
   ]
  },
  {
   "cell_type": "code",
   "execution_count": 30,
   "metadata": {},
   "outputs": [],
   "source": [
    "# load images\n",
    "images_gen5=np.load(\"../generated_data/Generated_1024_VAE_5_epochs.npy\")\n",
    "images_gen10=np.load(\"../generated_data/Generated_1024_VAE_10_epochs.npy\")\n",
    "images_gen20=np.load(\"../generated_data/Generated_1024_VAE_10_epochs.npy\")\n",
    "images_true=np.load(\"../generated_data/true_MNIST.npy\")\n",
    "images_true2=np.load(\"../generated_data/true_MNIST1.npy\")\n",
    "images_gen_3d=np.load(\"../generated_data/generated_3D.npy\")\n"
   ]
  },
  {
   "cell_type": "code",
   "execution_count": 3,
   "metadata": {},
   "outputs": [
    {
     "name": "stderr",
     "output_type": "stream",
     "text": [
      "2022-11-04 19:42:16.813278: W tensorflow/core/platform/profile_utils/cpu_utils.cc:128] Failed to get CPU frequency: 0 Hz\n",
      "2022-11-04 19:42:17.225918: I tensorflow/core/grappler/optimizers/custom_graph_optimizer_registry.cc:114] Plugin optimizer for device_type GPU is enabled.\n"
     ]
    },
    {
     "name": "stdout",
     "output_type": "stream",
     "text": [
      "32/32 [==============================] - 6s 168ms/step\n",
      "32/32 [==============================] - 5s 171ms/step\n",
      "FID : 0.565\n",
      "The fid for 20 epochs is 0.5654944053300632\n"
     ]
    }
   ],
   "source": [
    "# Testing to see if distance is small --> fid=0.5654944053300632\n",
    "fidMnist=Fid.compute_FID_images(images_true2,images_true)\n",
    "print(f\"The fid for 20 epochs is {fidMnist}\")\n"
   ]
  },
  {
   "cell_type": "markdown",
   "metadata": {},
   "source": [
    "## Test on a 2D latent space"
   ]
  },
  {
   "cell_type": "code",
   "execution_count": 12,
   "metadata": {},
   "outputs": [
    {
     "name": "stderr",
     "output_type": "stream",
     "text": [
      "2022-11-01 20:00:46.082318: I tensorflow/core/grappler/optimizers/custom_graph_optimizer_registry.cc:114] Plugin optimizer for device_type GPU is enabled.\n"
     ]
    },
    {
     "name": "stdout",
     "output_type": "stream",
     "text": [
      "32/32 [==============================] - 6s 168ms/step\n",
      "32/32 [==============================] - 5s 170ms/step\n",
      "FID : 26.186\n",
      "The fid for 5 epochs is 26.18620602131102\n",
      "##############################\n",
      "32/32 [==============================] - 6s 171ms/step\n",
      "32/32 [==============================] - 7s 211ms/step\n",
      "FID : 26.312\n",
      "The fid for 10 epochs is 26.312003316299364\n",
      "##############################\n",
      "32/32 [==============================] - 7s 210ms/step\n",
      "32/32 [==============================] - 7s 207ms/step\n",
      "FID : 26.312\n",
      "The fid for 20 epochs is 26.312003316299364\n",
      "##############################\n"
     ]
    }
   ],
   "source": [
    "fid5=Fid.compute_FID_images(images_gen5,images_true)\n",
    "print(f\"The fid for 5 epochs is {fid5}\")\n",
    "print(\"#\"*30)\n",
    "\n",
    "fid10=Fid.compute_FID_images(images_gen10,images_true)\n",
    "print(f\"The fid for 10 epochs is {fid10}\")\n",
    "print(\"#\"*30)\n",
    "\n",
    "fid20=Fid.compute_FID_images(images_gen20,images_true)\n",
    "print(f\"The fid for 20 epochs is {fid20}\")\n",
    "print(\"#\"*30)"
   ]
  },
  {
   "cell_type": "markdown",
   "metadata": {},
   "source": [
    "## Test on a 3d latent space"
   ]
  },
  {
   "cell_type": "code",
   "execution_count": 5,
   "metadata": {},
   "outputs": [
    {
     "name": "stdout",
     "output_type": "stream",
     "text": [
      "32/32 [==============================] - 6s 189ms/step\n",
      "32/32 [==============================] - 5s 172ms/step\n",
      "FID : 25.563\n",
      "The fid for 10 epochs is 25.562601862503087\n"
     ]
    }
   ],
   "source": [
    "fid3d=Fid.compute_FID_images(images_gen_3d,images_true)\n",
    "print(f\"The fid for 10 epochs is {fid3d}\")"
   ]
  },
  {
   "cell_type": "markdown",
   "metadata": {},
   "source": [
    "## Testing for the images with varying loss parameters (reconstruction loss and KLD)"
   ]
  },
  {
   "cell_type": "code",
   "execution_count": 22,
   "metadata": {},
   "outputs": [],
   "source": [
    "import re\n",
    "import os"
   ]
  },
  {
   "cell_type": "code",
   "execution_count": 33,
   "metadata": {},
   "outputs": [
    {
     "name": "stdout",
     "output_type": "stream",
     "text": [
      "Measuring FID for recon=0.7, KLD= 0.3 \n"
     ]
    },
    {
     "name": "stderr",
     "output_type": "stream",
     "text": [
      "2022-11-05 09:40:53.849501: W tensorflow/core/platform/profile_utils/cpu_utils.cc:128] Failed to get CPU frequency: 0 Hz\n",
      "2022-11-05 09:40:54.407757: I tensorflow/core/grappler/optimizers/custom_graph_optimizer_registry.cc:114] Plugin optimizer for device_type GPU is enabled.\n"
     ]
    },
    {
     "name": "stdout",
     "output_type": "stream",
     "text": [
      "32/32 [==============================] - 10s 167ms/step\n",
      "32/32 [==============================] - 5s 171ms/step\n",
      "FID : 25.539\n",
      "The FID for recon=0.7, KLD= 0.3 is 25.53858438065697\n",
      "Measuring FID for recon=0.8, KLD= 0.2 \n",
      "32/32 [==============================] - 6s 180ms/step\n",
      "32/32 [==============================] - 6s 180ms/step\n",
      "FID : 24.901\n",
      "The FID for recon=0.8, KLD= 0.2 is 24.901091739697602\n",
      "Measuring FID for recon=0.4, KLD= 0.6 \n",
      "32/32 [==============================] - 7s 206ms/step\n",
      "32/32 [==============================] - 6s 207ms/step\n",
      "FID : 32.951\n",
      "The FID for recon=0.4, KLD= 0.6 is 32.95124260048095\n",
      "Measuring FID for recon=0.3, KLD= 0.7 \n",
      "32/32 [==============================] - 6s 178ms/step\n",
      "32/32 [==============================] - 6s 204ms/step\n",
      "FID : 27.087\n",
      "The FID for recon=0.3, KLD= 0.7 is 27.086544222094723\n",
      "Measuring FID for recon=0.0, KLD= 1.0 \n",
      "32/32 [==============================] - 7s 207ms/step\n",
      "32/32 [==============================] - 6s 206ms/step\n",
      "FID : 26.441\n",
      "The FID for recon=0.0, KLD= 1.0 is 26.44089458121502\n",
      "Measuring FID for recon=0.1, KLD= 0.9 \n",
      "32/32 [==============================] - 7s 207ms/step\n",
      "32/32 [==============================] - 6s 206ms/step\n",
      "FID : 27.049\n",
      "The FID for recon=0.1, KLD= 0.9 is 27.049328480991107\n",
      "Measuring FID for recon=0.6, KLD= 0.4 \n",
      "32/32 [==============================] - 7s 217ms/step\n",
      "32/32 [==============================] - 7s 207ms/step\n",
      "FID : 25.562\n",
      "The FID for recon=0.6, KLD= 0.4 is 25.562375449484996\n",
      "Measuring FID for recon=0.9, KLD= 0.1 \n",
      "32/32 [==============================] - 7s 208ms/step\n",
      "32/32 [==============================] - 382s 12s/step\n",
      "FID : 24.478\n",
      "The FID for recon=0.9, KLD= 0.1 is 24.478416107373466\n",
      "Measuring FID for recon=0.2, KLD= 0.8 \n",
      "32/32 [==============================] - 7s 207ms/step\n",
      "32/32 [==============================] - 6s 206ms/step\n",
      "FID : 26.595\n",
      "The FID for recon=0.2, KLD= 0.8 is 26.595261916645697\n",
      "Measuring FID for recon=0.5, KLD= 0.5 \n",
      "32/32 [==============================] - 7s 207ms/step\n",
      "32/32 [==============================] - 6s 205ms/step\n",
      "FID : 24.847\n",
      "The FID for recon=0.5, KLD= 0.5 is 24.846894583521557\n"
     ]
    }
   ],
   "source": [
    "dic_FID={}\n",
    "for filename in os.listdir(\"../generated_data/\"):\n",
    "    if filename.startswith(\"generated_reco\"):\n",
    "        k1,k2=re.findall(\"[0-9].[0-9]\",filename)\n",
    "        print(f\"Measuring FID for recon={k1}, KLD= {k2} \")\n",
    "        gen_images=np.load(\"../generated_data/\"+filename)\n",
    "\n",
    "        fid=Fid.compute_FID_images(gen_images,images_true)\n",
    "        dic_FID[f'{k1},{k2}']=fid\n",
    "        print(f\"The FID for recon={k1}, KLD= {k2} is {fid}\")\n",
    "        "
   ]
  },
  {
   "cell_type": "code",
   "execution_count": 61,
   "metadata": {},
   "outputs": [
    {
     "data": {
      "text/plain": [
       "'Proportion of reconstruction $\\\\frac{\\\\recon}{recon + KLD}$'"
      ]
     },
     "execution_count": 61,
     "metadata": {},
     "output_type": "execute_result"
    }
   ],
   "source": [
    "r\"Proportion of reconstruction $\\frac{\\recon}{recon + KLD}$\""
   ]
  },
  {
   "cell_type": "code",
   "execution_count": 71,
   "metadata": {},
   "outputs": [
    {
     "data": {
      "text/plain": [
       "Text(0.5, 1.0, 'Evolution of FID as a function of the loss parameters')"
      ]
     },
     "execution_count": 71,
     "metadata": {},
     "output_type": "execute_result"
    },
    {
     "data": {
      "image/png": "[encoded data removed]",
      "text/plain": [
       "<Figure size 640x480 with 1 Axes>"
      ]
     },
     "metadata": {},
     "output_type": "display_data"
    }
   ],
   "source": [
    "from collections import OrderedDict\n",
    "od = OrderedDict(sorted(dic_FID.items()))\n",
    "plt.plot(np.array([k for k in range(10)])/10,od.values())\n",
    "# _=plt.xticks()\n",
    "plt.ylabel(\"FID\")\n",
    "plt.xlabel(r\"Proportion of reconstruction over loss parameters ($\\frac{recon}{recon + KLD}$) \")\n",
    "\n",
    "plt.title(\"Evolution of FID as a function of the loss parameters\")\n",
    "# plt.savefig(\"../images/Evolution of FID as a function of the loss parameters.png\")"
   ]
  }
 ],
 "metadata": {
  "kernelspec": {
   "display_name": "Python 3.10.6 ('tensorflow-gpu')",
   "language": "python",
   "name": "python3"
  },
  "language_info": {
   "codemirror_mode": {
    "name": "ipython",
    "version": 3
   },
   "file_extension": ".py",
   "mimetype": "text/x-python",
   "name": "python",
   "nbconvert_exporter": "python",
   "pygments_lexer": "ipython3",
   "version": "3.10.6"
  },
  "orig_nbformat": 4,
  "vscode": {
   "interpreter": {
    "hash": "e8299e0b1ba1a35357c891f3d9c5ab36687e783b4b4cead4891e128839988e81"
   }
  }
 },
 "nbformat": 4,
 "nbformat_minor": 2
}
